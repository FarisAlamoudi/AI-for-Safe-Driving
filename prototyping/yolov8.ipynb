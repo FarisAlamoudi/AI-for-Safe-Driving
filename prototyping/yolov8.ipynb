{
 "cells": [
  {
   "cell_type": "markdown",
   "metadata": {},
   "source": [
    "# Rock Paper Scissors Recognition Using YOLOv8\n",
    "This is just a proof of concept of using base YOLOvX models to build a recognition model"
   ]
  },
  {
   "cell_type": "markdown",
   "metadata": {},
   "source": [
    "## Eviroment Set Ups\n",
    "Run this if your enviroment has not been set up yet.\n",
    "\n",
    "List of env. reqs.:\n",
    "- ultralytics"
   ]
  },
  {
   "cell_type": "code",
   "execution_count": 8,
   "metadata": {},
   "outputs": [
    {
     "name": "stdout",
     "output_type": "stream",
     "text": [
      "Requirement already satisfied: asttokens==2.4.1 in /home/jbeni/Desktop/School/COP4934/AI-for-Safe-Driving/.venv/lib/python3.12/site-packages (from -r requirements.txt (line 1)) (2.4.1)\n",
      "Requirement already satisfied: certifi==2024.8.30 in /home/jbeni/Desktop/School/COP4934/AI-for-Safe-Driving/.venv/lib/python3.12/site-packages (from -r requirements.txt (line 2)) (2024.8.30)\n",
      "Requirement already satisfied: charset-normalizer==3.3.2 in /home/jbeni/Desktop/School/COP4934/AI-for-Safe-Driving/.venv/lib/python3.12/site-packages (from -r requirements.txt (line 3)) (3.3.2)\n",
      "Requirement already satisfied: comm==0.2.2 in /home/jbeni/Desktop/School/COP4934/AI-for-Safe-Driving/.venv/lib/python3.12/site-packages (from -r requirements.txt (line 4)) (0.2.2)\n",
      "Requirement already satisfied: contourpy==1.3.0 in /home/jbeni/Desktop/School/COP4934/AI-for-Safe-Driving/.venv/lib/python3.12/site-packages (from -r requirements.txt (line 5)) (1.3.0)\n",
      "Requirement already satisfied: cycler==0.12.1 in /home/jbeni/Desktop/School/COP4934/AI-for-Safe-Driving/.venv/lib/python3.12/site-packages (from -r requirements.txt (line 6)) (0.12.1)\n",
      "Requirement already satisfied: debugpy==1.8.6 in /home/jbeni/Desktop/School/COP4934/AI-for-Safe-Driving/.venv/lib/python3.12/site-packages (from -r requirements.txt (line 7)) (1.8.6)\n",
      "Requirement already satisfied: decorator==5.1.1 in /home/jbeni/Desktop/School/COP4934/AI-for-Safe-Driving/.venv/lib/python3.12/site-packages (from -r requirements.txt (line 8)) (5.1.1)\n",
      "Requirement already satisfied: executing==2.1.0 in /home/jbeni/Desktop/School/COP4934/AI-for-Safe-Driving/.venv/lib/python3.12/site-packages (from -r requirements.txt (line 9)) (2.1.0)\n",
      "Requirement already satisfied: filelock==3.16.1 in /home/jbeni/Desktop/School/COP4934/AI-for-Safe-Driving/.venv/lib/python3.12/site-packages (from -r requirements.txt (line 10)) (3.16.1)\n",
      "Requirement already satisfied: filetype==1.2.0 in /home/jbeni/Desktop/School/COP4934/AI-for-Safe-Driving/.venv/lib/python3.12/site-packages (from -r requirements.txt (line 11)) (1.2.0)\n",
      "Requirement already satisfied: fonttools==4.54.1 in /home/jbeni/Desktop/School/COP4934/AI-for-Safe-Driving/.venv/lib/python3.12/site-packages (from -r requirements.txt (line 12)) (4.54.1)\n",
      "Requirement already satisfied: fsspec==2024.9.0 in /home/jbeni/Desktop/School/COP4934/AI-for-Safe-Driving/.venv/lib/python3.12/site-packages (from -r requirements.txt (line 13)) (2024.9.0)\n",
      "Requirement already satisfied: idna==3.7 in /home/jbeni/Desktop/School/COP4934/AI-for-Safe-Driving/.venv/lib/python3.12/site-packages (from -r requirements.txt (line 14)) (3.7)\n",
      "Requirement already satisfied: ipykernel==6.29.5 in /home/jbeni/Desktop/School/COP4934/AI-for-Safe-Driving/.venv/lib/python3.12/site-packages (from -r requirements.txt (line 15)) (6.29.5)\n",
      "Requirement already satisfied: ipython==8.27.0 in /home/jbeni/Desktop/School/COP4934/AI-for-Safe-Driving/.venv/lib/python3.12/site-packages (from -r requirements.txt (line 16)) (8.27.0)\n",
      "Requirement already satisfied: jedi==0.19.1 in /home/jbeni/Desktop/School/COP4934/AI-for-Safe-Driving/.venv/lib/python3.12/site-packages (from -r requirements.txt (line 17)) (0.19.1)\n",
      "Requirement already satisfied: Jinja2==3.1.4 in /home/jbeni/Desktop/School/COP4934/AI-for-Safe-Driving/.venv/lib/python3.12/site-packages (from -r requirements.txt (line 18)) (3.1.4)\n",
      "Requirement already satisfied: jupyter_client==8.6.3 in /home/jbeni/Desktop/School/COP4934/AI-for-Safe-Driving/.venv/lib/python3.12/site-packages (from -r requirements.txt (line 19)) (8.6.3)\n",
      "Requirement already satisfied: jupyter_core==5.7.2 in /home/jbeni/Desktop/School/COP4934/AI-for-Safe-Driving/.venv/lib/python3.12/site-packages (from -r requirements.txt (line 20)) (5.7.2)\n",
      "Requirement already satisfied: kiwisolver==1.4.7 in /home/jbeni/Desktop/School/COP4934/AI-for-Safe-Driving/.venv/lib/python3.12/site-packages (from -r requirements.txt (line 21)) (1.4.7)\n",
      "Requirement already satisfied: MarkupSafe==2.1.5 in /home/jbeni/Desktop/School/COP4934/AI-for-Safe-Driving/.venv/lib/python3.12/site-packages (from -r requirements.txt (line 22)) (2.1.5)\n",
      "Requirement already satisfied: matplotlib==3.9.2 in /home/jbeni/Desktop/School/COP4934/AI-for-Safe-Driving/.venv/lib/python3.12/site-packages (from -r requirements.txt (line 23)) (3.9.2)\n",
      "Requirement already satisfied: matplotlib-inline==0.1.7 in /home/jbeni/Desktop/School/COP4934/AI-for-Safe-Driving/.venv/lib/python3.12/site-packages (from -r requirements.txt (line 24)) (0.1.7)\n",
      "Requirement already satisfied: mpmath==1.3.0 in /home/jbeni/Desktop/School/COP4934/AI-for-Safe-Driving/.venv/lib/python3.12/site-packages (from -r requirements.txt (line 25)) (1.3.0)\n",
      "Requirement already satisfied: nest-asyncio==1.6.0 in /home/jbeni/Desktop/School/COP4934/AI-for-Safe-Driving/.venv/lib/python3.12/site-packages (from -r requirements.txt (line 26)) (1.6.0)\n",
      "Requirement already satisfied: networkx==3.3 in /home/jbeni/Desktop/School/COP4934/AI-for-Safe-Driving/.venv/lib/python3.12/site-packages (from -r requirements.txt (line 27)) (3.3)\n",
      "Requirement already satisfied: numpy==1.26.4 in /home/jbeni/Desktop/School/COP4934/AI-for-Safe-Driving/.venv/lib/python3.12/site-packages (from -r requirements.txt (line 28)) (1.26.4)\n",
      "Requirement already satisfied: nvidia-cublas-cu12==12.1.3.1 in /home/jbeni/Desktop/School/COP4934/AI-for-Safe-Driving/.venv/lib/python3.12/site-packages (from -r requirements.txt (line 29)) (12.1.3.1)\n",
      "Requirement already satisfied: nvidia-cuda-cupti-cu12==12.1.105 in /home/jbeni/Desktop/School/COP4934/AI-for-Safe-Driving/.venv/lib/python3.12/site-packages (from -r requirements.txt (line 30)) (12.1.105)\n",
      "Requirement already satisfied: nvidia-cuda-nvrtc-cu12==12.1.105 in /home/jbeni/Desktop/School/COP4934/AI-for-Safe-Driving/.venv/lib/python3.12/site-packages (from -r requirements.txt (line 31)) (12.1.105)\n",
      "Requirement already satisfied: nvidia-cuda-runtime-cu12==12.1.105 in /home/jbeni/Desktop/School/COP4934/AI-for-Safe-Driving/.venv/lib/python3.12/site-packages (from -r requirements.txt (line 32)) (12.1.105)\n",
      "Requirement already satisfied: nvidia-cudnn-cu12==9.1.0.70 in /home/jbeni/Desktop/School/COP4934/AI-for-Safe-Driving/.venv/lib/python3.12/site-packages (from -r requirements.txt (line 33)) (9.1.0.70)\n",
      "Requirement already satisfied: nvidia-cufft-cu12==11.0.2.54 in /home/jbeni/Desktop/School/COP4934/AI-for-Safe-Driving/.venv/lib/python3.12/site-packages (from -r requirements.txt (line 34)) (11.0.2.54)\n",
      "Requirement already satisfied: nvidia-curand-cu12==10.3.2.106 in /home/jbeni/Desktop/School/COP4934/AI-for-Safe-Driving/.venv/lib/python3.12/site-packages (from -r requirements.txt (line 35)) (10.3.2.106)\n",
      "Requirement already satisfied: nvidia-cusolver-cu12==11.4.5.107 in /home/jbeni/Desktop/School/COP4934/AI-for-Safe-Driving/.venv/lib/python3.12/site-packages (from -r requirements.txt (line 36)) (11.4.5.107)\n",
      "Requirement already satisfied: nvidia-cusparse-cu12==12.1.0.106 in /home/jbeni/Desktop/School/COP4934/AI-for-Safe-Driving/.venv/lib/python3.12/site-packages (from -r requirements.txt (line 37)) (12.1.0.106)\n",
      "Requirement already satisfied: nvidia-nccl-cu12==2.20.5 in /home/jbeni/Desktop/School/COP4934/AI-for-Safe-Driving/.venv/lib/python3.12/site-packages (from -r requirements.txt (line 38)) (2.20.5)\n",
      "Requirement already satisfied: nvidia-nvjitlink-cu12==12.6.68 in /home/jbeni/Desktop/School/COP4934/AI-for-Safe-Driving/.venv/lib/python3.12/site-packages (from -r requirements.txt (line 39)) (12.6.68)\n",
      "Requirement already satisfied: nvidia-nvtx-cu12==12.1.105 in /home/jbeni/Desktop/School/COP4934/AI-for-Safe-Driving/.venv/lib/python3.12/site-packages (from -r requirements.txt (line 40)) (12.1.105)\n",
      "Requirement already satisfied: opencv-python==4.10.0.84 in /home/jbeni/Desktop/School/COP4934/AI-for-Safe-Driving/.venv/lib/python3.12/site-packages (from -r requirements.txt (line 41)) (4.10.0.84)\n",
      "Requirement already satisfied: opencv-python-headless==4.10.0.84 in /home/jbeni/Desktop/School/COP4934/AI-for-Safe-Driving/.venv/lib/python3.12/site-packages (from -r requirements.txt (line 42)) (4.10.0.84)\n",
      "Requirement already satisfied: packaging==24.1 in /home/jbeni/Desktop/School/COP4934/AI-for-Safe-Driving/.venv/lib/python3.12/site-packages (from -r requirements.txt (line 43)) (24.1)\n",
      "Requirement already satisfied: pandas==2.2.3 in /home/jbeni/Desktop/School/COP4934/AI-for-Safe-Driving/.venv/lib/python3.12/site-packages (from -r requirements.txt (line 44)) (2.2.3)\n",
      "Requirement already satisfied: parso==0.8.4 in /home/jbeni/Desktop/School/COP4934/AI-for-Safe-Driving/.venv/lib/python3.12/site-packages (from -r requirements.txt (line 45)) (0.8.4)\n",
      "Requirement already satisfied: pexpect==4.9.0 in /home/jbeni/Desktop/School/COP4934/AI-for-Safe-Driving/.venv/lib/python3.12/site-packages (from -r requirements.txt (line 46)) (4.9.0)\n",
      "Requirement already satisfied: pillow==10.4.0 in /home/jbeni/Desktop/School/COP4934/AI-for-Safe-Driving/.venv/lib/python3.12/site-packages (from -r requirements.txt (line 47)) (10.4.0)\n",
      "Requirement already satisfied: platformdirs==4.3.6 in /home/jbeni/Desktop/School/COP4934/AI-for-Safe-Driving/.venv/lib/python3.12/site-packages (from -r requirements.txt (line 48)) (4.3.6)\n",
      "Requirement already satisfied: prompt_toolkit==3.0.47 in /home/jbeni/Desktop/School/COP4934/AI-for-Safe-Driving/.venv/lib/python3.12/site-packages (from -r requirements.txt (line 49)) (3.0.47)\n",
      "Requirement already satisfied: psutil==6.0.0 in /home/jbeni/Desktop/School/COP4934/AI-for-Safe-Driving/.venv/lib/python3.12/site-packages (from -r requirements.txt (line 50)) (6.0.0)\n",
      "Requirement already satisfied: ptyprocess==0.7.0 in /home/jbeni/Desktop/School/COP4934/AI-for-Safe-Driving/.venv/lib/python3.12/site-packages (from -r requirements.txt (line 51)) (0.7.0)\n",
      "Requirement already satisfied: pure_eval==0.2.3 in /home/jbeni/Desktop/School/COP4934/AI-for-Safe-Driving/.venv/lib/python3.12/site-packages (from -r requirements.txt (line 52)) (0.2.3)\n",
      "Requirement already satisfied: py-cpuinfo==9.0.0 in /home/jbeni/Desktop/School/COP4934/AI-for-Safe-Driving/.venv/lib/python3.12/site-packages (from -r requirements.txt (line 53)) (9.0.0)\n",
      "Requirement already satisfied: Pygments==2.18.0 in /home/jbeni/Desktop/School/COP4934/AI-for-Safe-Driving/.venv/lib/python3.12/site-packages (from -r requirements.txt (line 54)) (2.18.0)\n",
      "Requirement already satisfied: pyparsing==3.1.4 in /home/jbeni/Desktop/School/COP4934/AI-for-Safe-Driving/.venv/lib/python3.12/site-packages (from -r requirements.txt (line 55)) (3.1.4)\n",
      "Requirement already satisfied: python-dateutil==2.9.0.post0 in /home/jbeni/Desktop/School/COP4934/AI-for-Safe-Driving/.venv/lib/python3.12/site-packages (from -r requirements.txt (line 56)) (2.9.0.post0)\n",
      "Requirement already satisfied: python-dotenv==1.0.1 in /home/jbeni/Desktop/School/COP4934/AI-for-Safe-Driving/.venv/lib/python3.12/site-packages (from -r requirements.txt (line 57)) (1.0.1)\n",
      "Requirement already satisfied: pytz==2024.2 in /home/jbeni/Desktop/School/COP4934/AI-for-Safe-Driving/.venv/lib/python3.12/site-packages (from -r requirements.txt (line 58)) (2024.2)\n",
      "Requirement already satisfied: PyYAML==6.0.2 in /home/jbeni/Desktop/School/COP4934/AI-for-Safe-Driving/.venv/lib/python3.12/site-packages (from -r requirements.txt (line 59)) (6.0.2)\n",
      "Requirement already satisfied: pyzmq==26.2.0 in /home/jbeni/Desktop/School/COP4934/AI-for-Safe-Driving/.venv/lib/python3.12/site-packages (from -r requirements.txt (line 60)) (26.2.0)\n",
      "Requirement already satisfied: requests==2.32.3 in /home/jbeni/Desktop/School/COP4934/AI-for-Safe-Driving/.venv/lib/python3.12/site-packages (from -r requirements.txt (line 61)) (2.32.3)\n",
      "Requirement already satisfied: requests-toolbelt==1.0.0 in /home/jbeni/Desktop/School/COP4934/AI-for-Safe-Driving/.venv/lib/python3.12/site-packages (from -r requirements.txt (line 62)) (1.0.0)\n",
      "Requirement already satisfied: roboflow==1.1.45 in /home/jbeni/Desktop/School/COP4934/AI-for-Safe-Driving/.venv/lib/python3.12/site-packages (from -r requirements.txt (line 63)) (1.1.45)\n",
      "Requirement already satisfied: scipy==1.14.1 in /home/jbeni/Desktop/School/COP4934/AI-for-Safe-Driving/.venv/lib/python3.12/site-packages (from -r requirements.txt (line 64)) (1.14.1)\n",
      "Requirement already satisfied: seaborn==0.13.2 in /home/jbeni/Desktop/School/COP4934/AI-for-Safe-Driving/.venv/lib/python3.12/site-packages (from -r requirements.txt (line 65)) (0.13.2)\n",
      "Requirement already satisfied: setuptools==75.1.0 in /home/jbeni/Desktop/School/COP4934/AI-for-Safe-Driving/.venv/lib/python3.12/site-packages (from -r requirements.txt (line 66)) (75.1.0)\n",
      "Requirement already satisfied: six==1.16.0 in /home/jbeni/Desktop/School/COP4934/AI-for-Safe-Driving/.venv/lib/python3.12/site-packages (from -r requirements.txt (line 67)) (1.16.0)\n",
      "Requirement already satisfied: stack-data==0.6.3 in /home/jbeni/Desktop/School/COP4934/AI-for-Safe-Driving/.venv/lib/python3.12/site-packages (from -r requirements.txt (line 68)) (0.6.3)\n",
      "Requirement already satisfied: sympy==1.13.3 in /home/jbeni/Desktop/School/COP4934/AI-for-Safe-Driving/.venv/lib/python3.12/site-packages (from -r requirements.txt (line 69)) (1.13.3)\n",
      "Requirement already satisfied: torch==2.4.1 in /home/jbeni/Desktop/School/COP4934/AI-for-Safe-Driving/.venv/lib/python3.12/site-packages (from -r requirements.txt (line 70)) (2.4.1)\n",
      "Requirement already satisfied: torchvision==0.19.1 in /home/jbeni/Desktop/School/COP4934/AI-for-Safe-Driving/.venv/lib/python3.12/site-packages (from -r requirements.txt (line 71)) (0.19.1)\n",
      "Requirement already satisfied: tornado==6.4.1 in /home/jbeni/Desktop/School/COP4934/AI-for-Safe-Driving/.venv/lib/python3.12/site-packages (from -r requirements.txt (line 72)) (6.4.1)\n",
      "Requirement already satisfied: tqdm==4.66.5 in /home/jbeni/Desktop/School/COP4934/AI-for-Safe-Driving/.venv/lib/python3.12/site-packages (from -r requirements.txt (line 73)) (4.66.5)\n",
      "Requirement already satisfied: traitlets==5.14.3 in /home/jbeni/Desktop/School/COP4934/AI-for-Safe-Driving/.venv/lib/python3.12/site-packages (from -r requirements.txt (line 74)) (5.14.3)\n",
      "Requirement already satisfied: triton==3.0.0 in /home/jbeni/Desktop/School/COP4934/AI-for-Safe-Driving/.venv/lib/python3.12/site-packages (from -r requirements.txt (line 75)) (3.0.0)\n",
      "Requirement already satisfied: typing_extensions==4.12.2 in /home/jbeni/Desktop/School/COP4934/AI-for-Safe-Driving/.venv/lib/python3.12/site-packages (from -r requirements.txt (line 76)) (4.12.2)\n",
      "Requirement already satisfied: tzdata==2024.2 in /home/jbeni/Desktop/School/COP4934/AI-for-Safe-Driving/.venv/lib/python3.12/site-packages (from -r requirements.txt (line 77)) (2024.2)\n",
      "Requirement already satisfied: ultralytics==8.2.100 in /home/jbeni/Desktop/School/COP4934/AI-for-Safe-Driving/.venv/lib/python3.12/site-packages (from -r requirements.txt (line 78)) (8.2.100)\n",
      "Requirement already satisfied: ultralytics-thop==2.0.8 in /home/jbeni/Desktop/School/COP4934/AI-for-Safe-Driving/.venv/lib/python3.12/site-packages (from -r requirements.txt (line 79)) (2.0.8)\n",
      "Requirement already satisfied: urllib3==2.2.3 in /home/jbeni/Desktop/School/COP4934/AI-for-Safe-Driving/.venv/lib/python3.12/site-packages (from -r requirements.txt (line 80)) (2.2.3)\n",
      "Requirement already satisfied: wcwidth==0.2.13 in /home/jbeni/Desktop/School/COP4934/AI-for-Safe-Driving/.venv/lib/python3.12/site-packages (from -r requirements.txt (line 81)) (0.2.13)\n"
     ]
    }
   ],
   "source": [
    "import sys\n",
    "\n",
    "!{sys.executable} -m pip install -r requirements.txt\n"
   ]
  },
  {
   "cell_type": "markdown",
   "metadata": {},
   "source": [
    "## Imports"
   ]
  },
  {
   "cell_type": "code",
   "execution_count": 9,
   "metadata": {},
   "outputs": [
    {
     "name": "stdout",
     "output_type": "stream",
     "text": [
      "Ultralytics YOLOv8.2.100 🚀 Python-3.12.3 torch-2.4.1+cu121 CUDA:0 (NVIDIA GeForce RTX 4070 SUPER, 11980MiB)\n",
      "Setup complete ✅ (16 CPUs, 30.5 GB RAM, 211.3/467.3 GB disk)\n",
      "\n",
      "OS                  Linux-6.8.0-45-generic-x86_64-with-glibc2.39\n",
      "Environment         Linux\n",
      "Python              3.12.3\n",
      "Install             git\n",
      "RAM                 30.53 GB\n",
      "CPU                 AMD Ryzen 7 7800X3D 8-Core Processor\n",
      "CUDA                12.1\n",
      "\n",
      "numpy               ✅ 1.26.4<2.0.0,>=1.23.0\n",
      "matplotlib          ✅ 3.9.2>=3.3.0\n",
      "opencv-python       ✅ 4.10.0.84>=4.6.0\n",
      "pillow              ✅ 10.4.0>=7.1.2\n",
      "pyyaml              ✅ 6.0.2>=5.3.1\n",
      "requests            ✅ 2.32.3>=2.23.0\n",
      "scipy               ✅ 1.14.1>=1.4.1\n",
      "torch               ✅ 2.4.1>=1.8.0\n",
      "torchvision         ✅ 0.19.1>=0.9.0\n",
      "tqdm                ✅ 4.66.5>=4.64.0\n",
      "psutil              ✅ 6.0.0\n",
      "py-cpuinfo          ✅ 9.0.0\n",
      "pandas              ✅ 2.2.3>=1.1.4\n",
      "seaborn             ✅ 0.13.2>=0.11.0\n",
      "ultralytics-thop    ✅ 2.0.8>=2.0.0\n",
      "torch               ✅ 2.4.1!=2.4.0,>=1.8.0; sys_platform == \"win32\"\n"
     ]
    }
   ],
   "source": [
    "from ultralytics import YOLO\n",
    "from IPython.display import display, Image\n",
    "from IPython import display\n",
    "import secrets_api\n",
    "from roboflow import Roboflow\n",
    "display.clear_output()\n",
    "!yolo checks"
   ]
  },
  {
   "cell_type": "markdown",
   "metadata": {},
   "source": [
    "## Download Datasets (use roboflow for formatting and lableling)"
   ]
  },
  {
   "cell_type": "code",
   "execution_count": 4,
   "metadata": {},
   "outputs": [
    {
     "name": "stdout",
     "output_type": "stream",
     "text": [
      "loading Roboflow workspace...\n",
      "loading Roboflow project...\n",
      "Dependency ultralytics==8.0.196 is required but found version=8.2.100, to fix: `pip install ultralytics==8.0.196`\n"
     ]
    }
   ],
   "source": [
    "rf = Roboflow(api_key=secrets_api.get_secret_key())\n",
    "project = rf.workspace(\"jbroboflowworkspace\").project(\"desk-item-classifier\")\n",
    "version = project.version(1)\n",
    "dataset = version.download(\"yolov8\")"
   ]
  },
  {
   "cell_type": "markdown",
   "metadata": {},
   "source": [
    "## Train Model"
   ]
  },
  {
   "cell_type": "code",
   "execution_count": 5,
   "metadata": {},
   "outputs": [
    {
     "name": "stdout",
     "output_type": "stream",
     "text": [
      "Ultralytics YOLOv8.2.100 🚀 Python-3.12.3 torch-2.4.1+cu121 CUDA:0 (NVIDIA GeForce RTX 4070 SUPER, 11980MiB)\n",
      "\u001b[34m\u001b[1mengine/trainer: \u001b[0mtask=classify, mode=train, model=yolov8m-cls.pt, data=./dataset/, epochs=20, time=None, patience=100, batch=16, imgsz=640, save=True, save_period=-1, cache=False, device=None, workers=8, project=None, name=train22, exist_ok=False, pretrained=True, optimizer=auto, verbose=True, seed=0, deterministic=True, single_cls=False, rect=False, cos_lr=False, close_mosaic=10, resume=False, amp=True, fraction=1.0, profile=False, freeze=None, multi_scale=False, overlap_mask=True, mask_ratio=4, dropout=0.0, val=True, split=val, save_json=False, save_hybrid=False, conf=None, iou=0.7, max_det=300, half=False, dnn=False, plots=True, source=None, vid_stride=1, stream_buffer=False, visualize=False, augment=False, agnostic_nms=False, classes=None, retina_masks=False, embed=None, show=False, save_frames=False, save_txt=False, save_conf=False, save_crop=False, show_labels=True, show_conf=True, show_boxes=True, line_width=None, format=torchscript, keras=False, optimize=False, int8=False, dynamic=False, simplify=True, opset=None, workspace=4, nms=False, lr0=0.01, lrf=0.01, momentum=0.937, weight_decay=0.0005, warmup_epochs=3.0, warmup_momentum=0.8, warmup_bias_lr=0.1, box=7.5, cls=0.5, dfl=1.5, pose=12.0, kobj=1.0, label_smoothing=0.0, nbs=64, hsv_h=0.015, hsv_s=0.7, hsv_v=0.4, degrees=0.0, translate=0.1, scale=0.5, shear=0.0, perspective=0.0, flipud=0.0, fliplr=0.5, bgr=0.0, mosaic=1.0, mixup=0.0, copy_paste=0.0, auto_augment=randaugment, erasing=0.4, crop_fraction=1.0, cfg=None, tracker=botsort.yaml, save_dir=/home/jbeni/Desktop/School/COP4934/AI-for-Safe-Driving/prototyping/runs/classify/train22\n",
      "\u001b[34m\u001b[1mtrain:\u001b[0m /home/jbeni/Desktop/School/COP4934/AI-for-Safe-Driving/prototyping/dataset/train... found 70 images in 5 classes ✅ \n",
      "\u001b[34m\u001b[1mval:\u001b[0m /home/jbeni/Desktop/School/COP4934/AI-for-Safe-Driving/prototyping/dataset/val... found 20 images in 5 classes ✅ \n",
      "\u001b[34m\u001b[1mtest:\u001b[0m /home/jbeni/Desktop/School/COP4934/AI-for-Safe-Driving/prototyping/dataset/test... found 10 images in 5 classes ✅ \n",
      "Overriding model.yaml nc=1000 with nc=5\n",
      "\n",
      "                   from  n    params  module                                       arguments                     \n",
      "  0                  -1  1      1392  ultralytics.nn.modules.conv.Conv             [3, 48, 3, 2]                 \n",
      "  1                  -1  1     41664  ultralytics.nn.modules.conv.Conv             [48, 96, 3, 2]                \n",
      "  2                  -1  2    111360  ultralytics.nn.modules.block.C2f             [96, 96, 2, True]             \n",
      "  3                  -1  1    166272  ultralytics.nn.modules.conv.Conv             [96, 192, 3, 2]               \n",
      "  4                  -1  4    813312  ultralytics.nn.modules.block.C2f             [192, 192, 4, True]           \n",
      "  5                  -1  1    664320  ultralytics.nn.modules.conv.Conv             [192, 384, 3, 2]              \n",
      "  6                  -1  4   3248640  ultralytics.nn.modules.block.C2f             [384, 384, 4, True]           \n",
      "  7                  -1  1   2655744  ultralytics.nn.modules.conv.Conv             [384, 768, 3, 2]              \n",
      "  8                  -1  2   7084032  ultralytics.nn.modules.block.C2f             [768, 768, 2, True]           \n",
      "  9                  -1  1    992005  ultralytics.nn.modules.head.Classify         [768, 5]                      \n",
      "YOLOv8m-cls summary: 141 layers, 15,778,741 parameters, 15,778,741 gradients, 41.9 GFLOPs\n",
      "Transferred 228/230 items from pretrained weights\n",
      "\u001b[34m\u001b[1mAMP: \u001b[0mrunning Automatic Mixed Precision (AMP) checks with YOLOv8n...\n",
      "\u001b[34m\u001b[1mAMP: \u001b[0mchecks passed ✅\n"
     ]
    },
    {
     "name": "stderr",
     "output_type": "stream",
     "text": [
      "\u001b[34m\u001b[1mtrain: \u001b[0mScanning /home/jbeni/Desktop/School/COP4934/AI-for-Safe-Driving/prototyping/dataset/train... 70 images, 0 corrupt: 100%|██████████| 70/70 [00:00<?, ?it/s]\n",
      "\u001b[34m\u001b[1mval: \u001b[0mScanning /home/jbeni/Desktop/School/COP4934/AI-for-Safe-Driving/prototyping/dataset/val... 20 images, 0 corrupt: 100%|██████████| 20/20 [00:00<?, ?it/s]\n"
     ]
    },
    {
     "name": "stdout",
     "output_type": "stream",
     "text": [
      "\u001b[34m\u001b[1moptimizer:\u001b[0m 'optimizer=auto' found, ignoring 'lr0=0.01' and 'momentum=0.937' and determining best 'optimizer', 'lr0' and 'momentum' automatically... \n",
      "\u001b[34m\u001b[1moptimizer:\u001b[0m AdamW(lr=0.000714, momentum=0.9) with parameter groups 38 weight(decay=0.0), 39 weight(decay=0.0005), 39 bias(decay=0.0)\n",
      "Image sizes 640 train, 640 val\n",
      "Using 8 dataloader workers\n",
      "Logging results to \u001b[1m/home/jbeni/Desktop/School/COP4934/AI-for-Safe-Driving/prototyping/runs/classify/train22\u001b[0m\n",
      "Starting training for 20 epochs...\n",
      "\n",
      "      Epoch    GPU_mem       loss  Instances       Size\n"
     ]
    },
    {
     "name": "stderr",
     "output_type": "stream",
     "text": [
      "       1/20      4.85G      1.615          6        640: 100%|██████████| 5/5 [00:02<00:00,  1.98it/s]\n",
      "               classes   top1_acc   top5_acc: 100%|██████████| 1/1 [00:00<00:00, 17.67it/s]"
     ]
    },
    {
     "name": "stdout",
     "output_type": "stream",
     "text": [
      "                   all        0.6          1\n"
     ]
    },
    {
     "name": "stderr",
     "output_type": "stream",
     "text": [
      "\n"
     ]
    },
    {
     "name": "stdout",
     "output_type": "stream",
     "text": [
      "\n",
      "      Epoch    GPU_mem       loss  Instances       Size\n"
     ]
    },
    {
     "name": "stderr",
     "output_type": "stream",
     "text": [
      "       2/20      5.02G      1.575          6        640: 100%|██████████| 5/5 [00:00<00:00,  9.21it/s]\n",
      "               classes   top1_acc   top5_acc: 100%|██████████| 1/1 [00:00<00:00, 20.66it/s]"
     ]
    },
    {
     "name": "stdout",
     "output_type": "stream",
     "text": [
      "                   all        0.6          1\n"
     ]
    },
    {
     "name": "stderr",
     "output_type": "stream",
     "text": [
      "\n"
     ]
    },
    {
     "name": "stdout",
     "output_type": "stream",
     "text": [
      "\n",
      "      Epoch    GPU_mem       loss  Instances       Size\n"
     ]
    },
    {
     "name": "stderr",
     "output_type": "stream",
     "text": [
      "       3/20      4.99G      1.477          6        640: 100%|██████████| 5/5 [00:00<00:00,  9.17it/s]\n",
      "               classes   top1_acc   top5_acc: 100%|██████████| 1/1 [00:00<00:00, 20.64it/s]"
     ]
    },
    {
     "name": "stdout",
     "output_type": "stream",
     "text": [
      "                   all        0.8          1\n"
     ]
    },
    {
     "name": "stderr",
     "output_type": "stream",
     "text": [
      "\n"
     ]
    },
    {
     "name": "stdout",
     "output_type": "stream",
     "text": [
      "\n",
      "      Epoch    GPU_mem       loss  Instances       Size\n"
     ]
    },
    {
     "name": "stderr",
     "output_type": "stream",
     "text": [
      "       4/20      4.99G      1.333          6        640: 100%|██████████| 5/5 [00:00<00:00,  9.43it/s]\n",
      "               classes   top1_acc   top5_acc: 100%|██████████| 1/1 [00:00<00:00, 20.71it/s]"
     ]
    },
    {
     "name": "stdout",
     "output_type": "stream",
     "text": [
      "                   all        0.9          1\n"
     ]
    },
    {
     "name": "stderr",
     "output_type": "stream",
     "text": [
      "\n"
     ]
    },
    {
     "name": "stdout",
     "output_type": "stream",
     "text": [
      "\n",
      "      Epoch    GPU_mem       loss  Instances       Size\n"
     ]
    },
    {
     "name": "stderr",
     "output_type": "stream",
     "text": [
      "       5/20      5.06G      1.227          6        640: 100%|██████████| 5/5 [00:00<00:00,  9.42it/s]\n",
      "               classes   top1_acc   top5_acc: 100%|██████████| 1/1 [00:00<00:00, 20.61it/s]"
     ]
    },
    {
     "name": "stdout",
     "output_type": "stream",
     "text": [
      "                   all          1          1\n"
     ]
    },
    {
     "name": "stderr",
     "output_type": "stream",
     "text": [
      "\n"
     ]
    },
    {
     "name": "stdout",
     "output_type": "stream",
     "text": [
      "\n",
      "      Epoch    GPU_mem       loss  Instances       Size\n"
     ]
    },
    {
     "name": "stderr",
     "output_type": "stream",
     "text": [
      "       6/20      5.03G      1.113          6        640: 100%|██████████| 5/5 [00:00<00:00,  9.57it/s]\n",
      "               classes   top1_acc   top5_acc: 100%|██████████| 1/1 [00:00<00:00, 20.57it/s]"
     ]
    },
    {
     "name": "stdout",
     "output_type": "stream",
     "text": [
      "                   all          1          1\n"
     ]
    },
    {
     "name": "stderr",
     "output_type": "stream",
     "text": [
      "\n"
     ]
    },
    {
     "name": "stdout",
     "output_type": "stream",
     "text": [
      "\n",
      "      Epoch    GPU_mem       loss  Instances       Size\n"
     ]
    },
    {
     "name": "stderr",
     "output_type": "stream",
     "text": [
      "       7/20      5.05G     0.9612          6        640: 100%|██████████| 5/5 [00:00<00:00,  9.42it/s]\n",
      "               classes   top1_acc   top5_acc: 100%|██████████| 1/1 [00:00<00:00, 20.65it/s]"
     ]
    },
    {
     "name": "stdout",
     "output_type": "stream",
     "text": [
      "                   all          1          1\n"
     ]
    },
    {
     "name": "stderr",
     "output_type": "stream",
     "text": [
      "\n"
     ]
    },
    {
     "name": "stdout",
     "output_type": "stream",
     "text": [
      "\n",
      "      Epoch    GPU_mem       loss  Instances       Size\n"
     ]
    },
    {
     "name": "stderr",
     "output_type": "stream",
     "text": [
      "       8/20         5G     0.8316          6        640: 100%|██████████| 5/5 [00:00<00:00,  9.51it/s]\n",
      "               classes   top1_acc   top5_acc: 100%|██████████| 1/1 [00:00<00:00, 20.55it/s]"
     ]
    },
    {
     "name": "stdout",
     "output_type": "stream",
     "text": [
      "                   all          1          1\n"
     ]
    },
    {
     "name": "stderr",
     "output_type": "stream",
     "text": [
      "\n"
     ]
    },
    {
     "name": "stdout",
     "output_type": "stream",
     "text": [
      "\n",
      "      Epoch    GPU_mem       loss  Instances       Size\n"
     ]
    },
    {
     "name": "stderr",
     "output_type": "stream",
     "text": [
      "       9/20      5.05G     0.7738          6        640: 100%|██████████| 5/5 [00:00<00:00,  9.36it/s]\n",
      "               classes   top1_acc   top5_acc: 100%|██████████| 1/1 [00:00<00:00, 20.70it/s]"
     ]
    },
    {
     "name": "stdout",
     "output_type": "stream",
     "text": [
      "                   all          1          1\n"
     ]
    },
    {
     "name": "stderr",
     "output_type": "stream",
     "text": [
      "\n"
     ]
    },
    {
     "name": "stdout",
     "output_type": "stream",
     "text": [
      "\n",
      "      Epoch    GPU_mem       loss  Instances       Size\n"
     ]
    },
    {
     "name": "stderr",
     "output_type": "stream",
     "text": [
      "      10/20      5.04G     0.5946          6        640: 100%|██████████| 5/5 [00:00<00:00,  9.59it/s]\n",
      "               classes   top1_acc   top5_acc: 100%|██████████| 1/1 [00:00<00:00, 20.41it/s]"
     ]
    },
    {
     "name": "stdout",
     "output_type": "stream",
     "text": [
      "                   all          1          1\n"
     ]
    },
    {
     "name": "stderr",
     "output_type": "stream",
     "text": [
      "\n"
     ]
    },
    {
     "name": "stdout",
     "output_type": "stream",
     "text": [
      "\n",
      "      Epoch    GPU_mem       loss  Instances       Size\n"
     ]
    },
    {
     "name": "stderr",
     "output_type": "stream",
     "text": [
      "      11/20      5.06G     0.4914          6        640: 100%|██████████| 5/5 [00:01<00:00,  4.92it/s]\n",
      "               classes   top1_acc   top5_acc: 100%|██████████| 1/1 [00:00<00:00, 20.48it/s]"
     ]
    },
    {
     "name": "stdout",
     "output_type": "stream",
     "text": [
      "                   all          1          1\n"
     ]
    },
    {
     "name": "stderr",
     "output_type": "stream",
     "text": [
      "\n"
     ]
    },
    {
     "name": "stdout",
     "output_type": "stream",
     "text": [
      "\n",
      "      Epoch    GPU_mem       loss  Instances       Size\n"
     ]
    },
    {
     "name": "stderr",
     "output_type": "stream",
     "text": [
      "      12/20      5.06G     0.4185          6        640: 100%|██████████| 5/5 [00:00<00:00,  9.52it/s]\n",
      "               classes   top1_acc   top5_acc: 100%|██████████| 1/1 [00:00<00:00, 20.66it/s]"
     ]
    },
    {
     "name": "stdout",
     "output_type": "stream",
     "text": [
      "                   all          1          1\n"
     ]
    },
    {
     "name": "stderr",
     "output_type": "stream",
     "text": [
      "\n"
     ]
    },
    {
     "name": "stdout",
     "output_type": "stream",
     "text": [
      "\n",
      "      Epoch    GPU_mem       loss  Instances       Size\n"
     ]
    },
    {
     "name": "stderr",
     "output_type": "stream",
     "text": [
      "      13/20         5G     0.4445          6        640: 100%|██████████| 5/5 [00:00<00:00,  9.59it/s]\n",
      "               classes   top1_acc   top5_acc: 100%|██████████| 1/1 [00:00<00:00, 20.51it/s]"
     ]
    },
    {
     "name": "stdout",
     "output_type": "stream",
     "text": [
      "                   all          1          1\n"
     ]
    },
    {
     "name": "stderr",
     "output_type": "stream",
     "text": [
      "\n"
     ]
    },
    {
     "name": "stdout",
     "output_type": "stream",
     "text": [
      "\n",
      "      Epoch    GPU_mem       loss  Instances       Size\n"
     ]
    },
    {
     "name": "stderr",
     "output_type": "stream",
     "text": [
      "      14/20      5.05G     0.3432          6        640: 100%|██████████| 5/5 [00:00<00:00,  9.55it/s]\n",
      "               classes   top1_acc   top5_acc: 100%|██████████| 1/1 [00:00<00:00, 20.37it/s]"
     ]
    },
    {
     "name": "stdout",
     "output_type": "stream",
     "text": [
      "                   all          1          1\n"
     ]
    },
    {
     "name": "stderr",
     "output_type": "stream",
     "text": [
      "\n"
     ]
    },
    {
     "name": "stdout",
     "output_type": "stream",
     "text": [
      "\n",
      "      Epoch    GPU_mem       loss  Instances       Size\n"
     ]
    },
    {
     "name": "stderr",
     "output_type": "stream",
     "text": [
      "      15/20      5.06G     0.2563          6        640: 100%|██████████| 5/5 [00:00<00:00,  9.51it/s]\n",
      "               classes   top1_acc   top5_acc: 100%|██████████| 1/1 [00:00<00:00, 20.51it/s]"
     ]
    },
    {
     "name": "stdout",
     "output_type": "stream",
     "text": [
      "                   all          1          1\n"
     ]
    },
    {
     "name": "stderr",
     "output_type": "stream",
     "text": [
      "\n"
     ]
    },
    {
     "name": "stdout",
     "output_type": "stream",
     "text": [
      "\n",
      "      Epoch    GPU_mem       loss  Instances       Size\n"
     ]
    },
    {
     "name": "stderr",
     "output_type": "stream",
     "text": [
      "      16/20         5G      0.248          6        640: 100%|██████████| 5/5 [00:00<00:00,  9.66it/s]\n",
      "               classes   top1_acc   top5_acc: 100%|██████████| 1/1 [00:00<00:00, 20.54it/s]"
     ]
    },
    {
     "name": "stdout",
     "output_type": "stream",
     "text": [
      "                   all          1          1\n"
     ]
    },
    {
     "name": "stderr",
     "output_type": "stream",
     "text": [
      "\n"
     ]
    },
    {
     "name": "stdout",
     "output_type": "stream",
     "text": [
      "\n",
      "      Epoch    GPU_mem       loss  Instances       Size\n"
     ]
    },
    {
     "name": "stderr",
     "output_type": "stream",
     "text": [
      "      17/20      5.05G     0.4879          6        640: 100%|██████████| 5/5 [00:00<00:00,  9.52it/s]\n",
      "               classes   top1_acc   top5_acc: 100%|██████████| 1/1 [00:00<00:00, 20.53it/s]"
     ]
    },
    {
     "name": "stdout",
     "output_type": "stream",
     "text": [
      "                   all          1          1\n"
     ]
    },
    {
     "name": "stderr",
     "output_type": "stream",
     "text": [
      "\n"
     ]
    },
    {
     "name": "stdout",
     "output_type": "stream",
     "text": [
      "\n",
      "      Epoch    GPU_mem       loss  Instances       Size\n"
     ]
    },
    {
     "name": "stderr",
     "output_type": "stream",
     "text": [
      "      18/20      5.05G     0.2271          6        640: 100%|██████████| 5/5 [00:00<00:00,  9.65it/s]\n",
      "               classes   top1_acc   top5_acc: 100%|██████████| 1/1 [00:00<00:00, 20.64it/s]"
     ]
    },
    {
     "name": "stdout",
     "output_type": "stream",
     "text": [
      "                   all          1          1\n"
     ]
    },
    {
     "name": "stderr",
     "output_type": "stream",
     "text": [
      "\n"
     ]
    },
    {
     "name": "stdout",
     "output_type": "stream",
     "text": [
      "\n",
      "      Epoch    GPU_mem       loss  Instances       Size\n"
     ]
    },
    {
     "name": "stderr",
     "output_type": "stream",
     "text": [
      "      19/20      5.06G     0.1686          6        640: 100%|██████████| 5/5 [00:00<00:00,  9.63it/s]\n",
      "               classes   top1_acc   top5_acc: 100%|██████████| 1/1 [00:00<00:00, 20.30it/s]"
     ]
    },
    {
     "name": "stdout",
     "output_type": "stream",
     "text": [
      "                   all          1          1\n"
     ]
    },
    {
     "name": "stderr",
     "output_type": "stream",
     "text": [
      "\n"
     ]
    },
    {
     "name": "stdout",
     "output_type": "stream",
     "text": [
      "\n",
      "      Epoch    GPU_mem       loss  Instances       Size\n"
     ]
    },
    {
     "name": "stderr",
     "output_type": "stream",
     "text": [
      "      20/20      5.05G     0.1748          6        640: 100%|██████████| 5/5 [00:00<00:00,  9.53it/s]\n",
      "               classes   top1_acc   top5_acc: 100%|██████████| 1/1 [00:00<00:00, 20.49it/s]"
     ]
    },
    {
     "name": "stdout",
     "output_type": "stream",
     "text": [
      "                   all          1          1\n"
     ]
    },
    {
     "name": "stderr",
     "output_type": "stream",
     "text": [
      "\n"
     ]
    },
    {
     "name": "stdout",
     "output_type": "stream",
     "text": [
      "\n",
      "20 epochs completed in 0.006 hours.\n",
      "Optimizer stripped from /home/jbeni/Desktop/School/COP4934/AI-for-Safe-Driving/prototyping/runs/classify/train22/weights/last.pt, 31.7MB\n",
      "Optimizer stripped from /home/jbeni/Desktop/School/COP4934/AI-for-Safe-Driving/prototyping/runs/classify/train22/weights/best.pt, 31.7MB\n",
      "\n",
      "Validating /home/jbeni/Desktop/School/COP4934/AI-for-Safe-Driving/prototyping/runs/classify/train22/weights/best.pt...\n",
      "Ultralytics YOLOv8.2.100 🚀 Python-3.12.3 torch-2.4.1+cu121 CUDA:0 (NVIDIA GeForce RTX 4070 SUPER, 11980MiB)\n",
      "YOLOv8m-cls summary (fused): 103 layers, 15,769,061 parameters, 0 gradients, 41.6 GFLOPs\n",
      "\u001b[34m\u001b[1mtrain:\u001b[0m /home/jbeni/Desktop/School/COP4934/AI-for-Safe-Driving/prototyping/dataset/train... found 70 images in 5 classes ✅ \n",
      "\u001b[34m\u001b[1mval:\u001b[0m /home/jbeni/Desktop/School/COP4934/AI-for-Safe-Driving/prototyping/dataset/val... found 20 images in 5 classes ✅ \n",
      "\u001b[34m\u001b[1mtest:\u001b[0m /home/jbeni/Desktop/School/COP4934/AI-for-Safe-Driving/prototyping/dataset/test... found 10 images in 5 classes ✅ \n"
     ]
    },
    {
     "name": "stderr",
     "output_type": "stream",
     "text": [
      "               classes   top1_acc   top5_acc: 100%|██████████| 1/1 [00:00<00:00, 21.81it/s]\n"
     ]
    },
    {
     "name": "stdout",
     "output_type": "stream",
     "text": [
      "                   all          1          1\n",
      "Speed: 0.2ms preprocess, 1.9ms inference, 0.0ms loss, 0.0ms postprocess per image\n",
      "Results saved to \u001b[1m/home/jbeni/Desktop/School/COP4934/AI-for-Safe-Driving/prototyping/runs/classify/train22\u001b[0m\n",
      "Results saved to \u001b[1m/home/jbeni/Desktop/School/COP4934/AI-for-Safe-Driving/prototyping/runs/classify/train22\u001b[0m\n"
     ]
    }
   ],
   "source": [
    "model = YOLO(model='yolov8m-cls.pt')\n",
    "\n",
    "results = model.train(data='./dataset/', epochs=20, imgsz=640)"
   ]
  },
  {
   "cell_type": "code",
   "execution_count": 6,
   "metadata": {},
   "outputs": [
    {
     "name": "stdout",
     "output_type": "stream",
     "text": [
      "\n",
      "image 1/10 /home/jbeni/Desktop/School/COP4934/AI-for-Safe-Driving/prototyping/Desk-Item-Classifier-1/test/images/WIN_20240923_21_37_38_Pro_jpg.rf.6cb96e562b98aa706a77c7650ab4a302.jpg: 640x640 Pen 0.90, Highlighter 0.07, Mouse 0.01, Phone 0.01, Keyboard 0.01, 3.0ms\n",
      "image 2/10 /home/jbeni/Desktop/School/COP4934/AI-for-Safe-Driving/prototyping/Desk-Item-Classifier-1/test/images/WIN_20240923_21_47_20_Pro_jpg.rf.42e4888ce98837c5a4b5b4c1a993f558.jpg: 640x640 Highlighter 0.90, Pen 0.08, Mouse 0.01, Keyboard 0.00, Phone 0.00, 3.2ms\n",
      "image 3/10 /home/jbeni/Desktop/School/COP4934/AI-for-Safe-Driving/prototyping/Desk-Item-Classifier-1/test/images/WIN_20240923_21_49_23_Pro_jpg.rf.e80c1bff0d1f57fcc3fc32ba634d1987.jpg: 640x640 Phone 0.86, Mouse 0.10, Pen 0.03, Highlighter 0.01, Keyboard 0.00, 3.0ms\n",
      "image 4/10 /home/jbeni/Desktop/School/COP4934/AI-for-Safe-Driving/prototyping/Desk-Item-Classifier-1/test/images/WIN_20240923_21_51_47_Pro_jpg.rf.8f1364f278e178452868061dfa7f9937.jpg: 640x640 Mouse 0.69, Phone 0.14, Pen 0.09, Highlighter 0.06, Keyboard 0.02, 3.0ms\n",
      "image 5/10 /home/jbeni/Desktop/School/COP4934/AI-for-Safe-Driving/prototyping/Desk-Item-Classifier-1/test/images/WIN_20240923_21_51_48_Pro_jpg.rf.ac10bc8468c17abac588b88e97aaba7c.jpg: 640x640 Mouse 0.55, Pen 0.19, Phone 0.14, Highlighter 0.09, Keyboard 0.03, 2.8ms\n",
      "image 6/10 /home/jbeni/Desktop/School/COP4934/AI-for-Safe-Driving/prototyping/Desk-Item-Classifier-1/test/images/WIN_20240923_21_51_59_Pro_jpg.rf.13cd307bc5809ad03220c66f00fa31ab.jpg: 640x640 Mouse 0.43, Pen 0.36, Phone 0.14, Highlighter 0.04, Keyboard 0.02, 2.8ms\n",
      "image 7/10 /home/jbeni/Desktop/School/COP4934/AI-for-Safe-Driving/prototyping/Desk-Item-Classifier-1/test/images/WIN_20240923_21_52_01_Pro_jpg.rf.0b99b6b7da391b85e3ed71261bd920c2.jpg: 640x640 Mouse 0.74, Pen 0.11, Phone 0.08, Highlighter 0.05, Keyboard 0.02, 3.0ms\n",
      "image 8/10 /home/jbeni/Desktop/School/COP4934/AI-for-Safe-Driving/prototyping/Desk-Item-Classifier-1/test/images/WIN_20240923_21_53_31_Pro-2-_jpg.rf.4ab9b5c7a7d2e8d56860ae20de4d9477.jpg: 640x640 Keyboard 1.00, Phone 0.00, Pen 0.00, Mouse 0.00, Highlighter 0.00, 3.0ms\n",
      "image 9/10 /home/jbeni/Desktop/School/COP4934/AI-for-Safe-Driving/prototyping/Desk-Item-Classifier-1/test/images/WIN_20240923_21_53_40_Pro_jpg.rf.6a8bfd11de8b731a7e6e39832bbeb022.jpg: 640x640 Keyboard 0.93, Phone 0.05, Mouse 0.01, Pen 0.01, Highlighter 0.00, 3.0ms\n",
      "image 10/10 /home/jbeni/Desktop/School/COP4934/AI-for-Safe-Driving/prototyping/Desk-Item-Classifier-1/test/images/WIN_20240923_21_53_43_Pro_jpg.rf.18028406e4fec4da67eaa52c92d62b7a.jpg: 640x640 Keyboard 0.95, Phone 0.03, Mouse 0.01, Pen 0.01, Highlighter 0.00, 2.8ms\n",
      "Speed: 2.6ms preprocess, 3.0ms inference, 0.0ms postprocess per image at shape (1, 3, 640, 640)\n",
      "Predicted Class: Pen\n",
      "Predicted Class: Highlighter\n",
      "Predicted Class: Phone\n",
      "Predicted Class: Mouse\n",
      "Predicted Class: Mouse\n",
      "Predicted Class: Mouse\n",
      "Predicted Class: Mouse\n",
      "Predicted Class: Keyboard\n",
      "Predicted Class: Keyboard\n",
      "Predicted Class: Keyboard\n"
     ]
    }
   ],
   "source": [
    "preds = model.predict(source='./Desk-Item-Classifier-1/test/images')\n",
    "\n",
    "classes = model.names\n",
    "\n",
    "for pred in preds:\n",
    "    print(f'Predicted Class: {classes[pred.probs.top1]}')\n",
    "\n",
    "# Only prediction it got wrong was the first one which was a highlighter and not a pen"
   ]
  }
 ],
 "metadata": {
  "kernelspec": {
   "display_name": ".venv",
   "language": "python",
   "name": "python3"
  },
  "language_info": {
   "codemirror_mode": {
    "name": "ipython",
    "version": 3
   },
   "file_extension": ".py",
   "mimetype": "text/x-python",
   "name": "python",
   "nbconvert_exporter": "python",
   "pygments_lexer": "ipython3",
   "version": "3.12.3"
  }
 },
 "nbformat": 4,
 "nbformat_minor": 2
}
